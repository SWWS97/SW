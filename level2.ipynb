{
  "cells": [
    {
      "cell_type": "markdown",
      "metadata": {
        "id": "view-in-github",
        "colab_type": "text"
      },
      "source": [
        "<a href=\"https://colab.research.google.com/github/SWWS97/SWWS97/blob/main/level2.ipynb\" target=\"_parent\"><img src=\"https://colab.research.google.com/assets/colab-badge.svg\" alt=\"Open In Colab\"/></a>"
      ]
    },
    {
      "cell_type": "markdown",
      "metadata": {
        "id": "WXEwMsfUct7U"
      },
      "source": [
        "안녕하세요.<br><br>\n",
        "수강생 여러분~!\n",
        "\n",
        "\"Challenge : 사칙연산을 이용해 문제 풀기\"는 잘 풀어보셨나요?\n",
        "\n",
        "\n",
        "너~~무 어려웠어요! 하는 분들을 위해 만들어봤습니다!\n",
        "\n",
        "문제 도장깨기 !!!!!\n",
        "\n",
        "차근차근 풀어나가면 파이썬 정복 가능입니다!\n",
        "\n",
        "화이팅 !\n",
        "\n",
        "\n",
        "Chapter04의 수업 내용을 바탕으로 아래 문제를 풀어주시면 됩니다.\n",
        "\n",
        "<br>\n",
        "\n",
        "[**답변 입력 방법**]\n",
        "\n",
        "문제 아래에 있는 코드 입력창에 정답코드를 작성하신 후  __▷ 버튼을 클릭해 코드를 실행__ 해보세요<br>\n",
        "<br>"
      ]
    },
    {
      "cell_type": "markdown",
      "metadata": {
        "id": "qoyC9wF-3hvs"
      },
      "source": [
        "-----"
      ]
    },
    {
      "cell_type": "markdown",
      "metadata": {
        "id": "TlFgKMTR5xtM"
      },
      "source": [
        "<br>\n",
        "\n",
        "__[문제1]__\n",
        "\n",
        "한 주머니에 사탕이 5개씩 들어있습니다.\n",
        "\n",
        "바리바리스타인 나에게는 3개의 주머니가 있습니다!\n",
        "\n",
        "근데 길가다가 사탕을 주웠습니다. 그래서 사탕 3개가 주머니에 더 추가되었습니다.\n",
        "\n",
        "최종적으로 주머니에 들어있는 사탕의 총 개수는 얼마인가요?\n",
        "\n",
        "<br>"
      ]
    },
    {
      "cell_type": "code",
      "execution_count": null,
      "metadata": {
        "colab": {
          "base_uri": "https://localhost:8080/"
        },
        "id": "zjwrRyFW5xtM",
        "outputId": "09464cf6-c600-48a2-cd12-d1e89836c7aa"
      },
      "outputs": [
        {
          "output_type": "stream",
          "name": "stdout",
          "text": [
            "18\n"
          ]
        }
      ],
      "source": [
        "(5*3)+3\n",
        "\n",
        "candies = 5\n",
        "pouches = 3\n",
        "add = 3\n",
        "\n",
        "print((candies * pouches) + add)"
      ]
    },
    {
      "cell_type": "markdown",
      "metadata": {
        "id": "8zgXRl2x5xtN"
      },
      "source": [
        "<br>\n",
        "\n",
        "__[문제2]__\n",
        "\n",
        "10명이 각자 4개의 공을 가지고 있습니다.\n",
        "\n",
        "운이 좋은 3명이 2개의 공을 더 받았습니다.\n",
        "\n",
        "10명이 가진 모든 공의 총 개수를 구하세요.\n"
      ]
    },
    {
      "cell_type": "code",
      "execution_count": null,
      "metadata": {
        "colab": {
          "base_uri": "https://localhost:8080/"
        },
        "id": "aIkAYxLa5xtN",
        "outputId": "6faa9790-589c-4359-9056-077513574dcd"
      },
      "outputs": [
        {
          "output_type": "stream",
          "name": "stdout",
          "text": [
            "46\n"
          ]
        }
      ],
      "source": [
        "(10 * 4) + (3 * 2)\n",
        "\n",
        "people = 10\n",
        "balls = 4\n",
        "lucky_people = 3\n",
        "extra_balls = 2\n",
        "\n",
        "print((people * balls) + (lucky_people * extra_balls))"
      ]
    },
    {
      "cell_type": "markdown",
      "metadata": {
        "id": "_tSxb-OU5xtN"
      },
      "source": [
        "<br>\n",
        "\n",
        "__[문제3]__\n",
        "\n",
        "5명의 학생이 3시간씩 공부했습니다.\n",
        "\n",
        "이상한 강박관념이 있는 나는 모든 시간을 분으로 계산하고 싶습니다.\n",
        "\n",
        "대신 계산해주세요 !\n"
      ]
    },
    {
      "cell_type": "code",
      "execution_count": null,
      "metadata": {
        "id": "74wtVQFFc_h1",
        "colab": {
          "base_uri": "https://localhost:8080/"
        },
        "outputId": "4fc15da0-aa4d-4314-e62d-897f4494ac24"
      },
      "outputs": [
        {
          "output_type": "stream",
          "name": "stdout",
          "text": [
            "900\n"
          ]
        }
      ],
      "source": [
        "5 * 3 * 60\n",
        "\n",
        "students = 5\n",
        "hours = 3\n",
        "minutes = 60\n",
        "\n",
        "print(students * hours * minutes)"
      ]
    },
    {
      "cell_type": "markdown",
      "metadata": {
        "id": "7EkIYSMN5xtP"
      },
      "source": [
        "<br>\n",
        "\n",
        "__[문제4]__\n",
        "\n",
        "차가 9리터의 연료를 가지고 있습니다.\n",
        "\n",
        "연료가 3일 동안 계속 줄어들며, 하루에 2리터씩 소비됩니다.\n",
        "\n",
        "3일 뒤 차에 남은 연료는 몇 리터인가요?"
      ]
    },
    {
      "cell_type": "code",
      "execution_count": null,
      "metadata": {
        "id": "9kvBxa6PdhgA",
        "colab": {
          "base_uri": "https://localhost:8080/"
        },
        "outputId": "dc78220b-bdce-4ced-b6e1-1cc50bb0aab7"
      },
      "outputs": [
        {
          "output_type": "stream",
          "name": "stdout",
          "text": [
            "3\n"
          ]
        }
      ],
      "source": [
        "9-(3*2)\n",
        "\n",
        "fuel = 9\n",
        "daily = 2\n",
        "days = 3\n",
        "\n",
        "print(fuel - (days * daily) )"
      ]
    },
    {
      "cell_type": "markdown",
      "metadata": {
        "id": "2Jte2VLKdiPm"
      },
      "source": [
        "__[문제5]__\n",
        "\n",
        "어떤 정사각형의 넓이가 144cm²입니다.\n",
        "\n",
        "정사각형의 한 변의 길이를 구하세요.\n"
      ]
    },
    {
      "cell_type": "code",
      "execution_count": null,
      "metadata": {
        "colab": {
          "base_uri": "https://localhost:8080/"
        },
        "id": "JrPOgySA5xtQ",
        "outputId": "d6357551-69c4-41d8-d45d-346b6cd977cf"
      },
      "outputs": [
        {
          "output_type": "execute_result",
          "data": {
            "text/plain": [
              "12.0"
            ]
          },
          "metadata": {},
          "execution_count": 29
        }
      ],
      "source": [
        "144 ** 0.5\n",
        "144 ** (1/2)"
      ]
    }
  ],
  "metadata": {
    "colab": {
      "provenance": [],
      "include_colab_link": true
    },
    "kernelspec": {
      "display_name": "Python 3",
      "name": "python3"
    },
    "language_info": {
      "codemirror_mode": {
        "name": "ipython",
        "version": 3
      },
      "file_extension": ".py",
      "mimetype": "text/x-python",
      "name": "python",
      "nbconvert_exporter": "python",
      "pygments_lexer": "ipython3",
      "version": "3.12.3"
    }
  },
  "nbformat": 4,
  "nbformat_minor": 0
}