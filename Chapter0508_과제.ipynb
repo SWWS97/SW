{
  "cells": [
    {
      "cell_type": "markdown",
      "metadata": {
        "id": "view-in-github",
        "colab_type": "text"
      },
      "source": [
        "<a href=\"https://colab.research.google.com/github/SWWS97/SW/blob/main/Chapter0508_%E1%84%80%E1%85%AA%E1%84%8C%E1%85%A6.ipynb\" target=\"_parent\"><img src=\"https://colab.research.google.com/assets/colab-badge.svg\" alt=\"Open In Colab\"/></a>"
      ]
    },
    {
      "cell_type": "markdown",
      "metadata": {
        "id": "WXEwMsfUct7U"
      },
      "source": [
        "안녕하세요.<br><br>\n",
        "수강생 여러분~! Chapter05 ~ 08 수업은 잘 들으셨나요?\n",
        "\n",
        "Chapter05 ~ 08의 수업 내용을 바탕으로 아래 문제를 풀어주시면 됩니다.\n",
        "\n",
        "<br>\n",
        "\n",
        "\n",
        "[**답변 입력 방법**]\n",
        "\n",
        "문제 아래에 있는 코드 입력창에 정답코드를 작성하신 후  __▷ 버튼을 클릭해 코드를 실행__ 해보세요<br>"
      ]
    },
    {
      "cell_type": "markdown",
      "metadata": {
        "id": "qoyC9wF-3hvs"
      },
      "source": [
        "-----"
      ]
    },
    {
      "cell_type": "markdown",
      "metadata": {
        "id": "rjeMGMhA3pMh"
      },
      "source": [
        "__[문제0]__\n",
        "<br>\n",
        "\n",
        "##### 이전 과제에서 \"도전! 신비의 섬 탐험\" 을 변수를 이용해서 다시 풀어보세요 !!!!!\n",
        "\n"
      ]
    },
    {
      "cell_type": "markdown",
      "metadata": {
        "id": "rAD_O3Gmc_43"
      },
      "source": [
        "__[문제1]__\n",
        "\n",
        "<br>\n",
        "변수명 게임에 들어 있는 값 중 '홀'만 출력되도록 코드를 작성해 주세요\n",
        "\n",
        "game = \"홀짝홀짝홀짝\"\n",
        "\n",
        "출력 예시 : \"홀홀홀\"\n"
      ]
    },
    {
      "cell_type": "markdown",
      "metadata": {
        "id": "4NZJituM3pMh"
      },
      "source": [
        "__Tips__\n",
        "- 문자열 슬라이싱을 이용해보세요 !"
      ]
    },
    {
      "cell_type": "code",
      "execution_count": null,
      "metadata": {
        "id": "74wtVQFFc_h1",
        "colab": {
          "base_uri": "https://localhost:8080/"
        },
        "outputId": "538a6fd5-c588-4b43-90da-6497cdb6a3e3"
      },
      "outputs": [
        {
          "output_type": "stream",
          "name": "stdout",
          "text": [
            "홀홀홀\n"
          ]
        }
      ],
      "source": [
        "game = \"홀짝홀짝홀짝\"\n",
        "\n",
        "print(game[::2])"
      ]
    },
    {
      "cell_type": "markdown",
      "metadata": {
        "id": "EAgZ-Fjh3pMi"
      },
      "source": [
        "---"
      ]
    },
    {
      "cell_type": "markdown",
      "metadata": {
        "id": "3uK_auXYdgk2"
      },
      "source": [
        "__[문제2]__\n",
        "\n",
        "<br>\n",
        "\n",
        "변수명 전화번호에 들어 있는 번호를 모두 붙여서 출력되도록 코드를 작성해주세요.\n",
        "\n",
        "<br>\n",
        "\n",
        "phone = \"010-1234-5678\"\n",
        "\n",
        "출력 예시 : \"01012345678\""
      ]
    },
    {
      "cell_type": "markdown",
      "metadata": {
        "id": "YsQUu8ro3pMj"
      },
      "source": [
        "__Tips__\n",
        "- split() 함수는 문자열을 특정 구분자를 기준으로 나누어 리스트로 반환합니다."
      ]
    },
    {
      "cell_type": "code",
      "execution_count": null,
      "metadata": {
        "id": "9kvBxa6PdhgA",
        "colab": {
          "base_uri": "https://localhost:8080/"
        },
        "outputId": "e85ceee6-3d63-474e-ba74-2e6943407979"
      },
      "outputs": [
        {
          "output_type": "stream",
          "name": "stdout",
          "text": [
            "01012345678\n"
          ]
        }
      ],
      "source": [
        "phone = \"010-1234-5678\"\n",
        "\n",
        "print(''.join(phone.split('-')))"
      ]
    },
    {
      "cell_type": "markdown",
      "metadata": {
        "id": "1ExnxoK73pMk"
      },
      "source": [
        "----"
      ]
    },
    {
      "cell_type": "markdown",
      "metadata": {
        "id": "kDxXMtMa3pMk"
      },
      "source": [
        "<br>\n",
        "\n",
        "__[문제3]__\n",
        "\n",
        "<br>\n",
        "\n",
        "오즈 코딩 스쿨 백엔드 8기 과정에 참여한 수강생 중 5명의 수강생이 자율적으로 스터디 그룹을 결성했습니다.\n",
        "\n",
        "스터디 그룹 내에는 한 주간 배운 내용으로 매주 쪽지 시험을 보는 룰이 있습니다.\n",
        "\n",
        "이 쪽지 시험의 평균이 70점이 넘으면 주말 스터디는 없습니다.\n",
        "\n",
        "주말 스터디의 여부를 True 또는 False로 출력해주세요.\n",
        "\n",
        "<br>\n",
        "A: 70, B: 75, C: 50, D: 80, E: 60\n",
        "\n",
        "<br>"
      ]
    },
    {
      "cell_type": "code",
      "execution_count": null,
      "metadata": {
        "colab": {
          "base_uri": "https://localhost:8080/"
        },
        "id": "dXJTNTgL3pMk",
        "outputId": "07f64b1b-da18-42e1-dcc7-0153b6c14bf1"
      },
      "outputs": [
        {
          "output_type": "stream",
          "name": "stdout",
          "text": [
            "True\n"
          ]
        }
      ],
      "source": [
        "A = 70\n",
        "B = 75\n",
        "C = 50\n",
        "D = 80\n",
        "E = 60\n",
        "\n",
        "score = A + B + C + D + E\n",
        "average_sc = score / 5\n",
        "\n",
        "print(average_sc <= 70)\n"
      ]
    },
    {
      "cell_type": "markdown",
      "metadata": {
        "id": "2Jte2VLKdiPm"
      },
      "source": [
        "__[문제4]__\n",
        "\n",
        "<br>\n",
        "\n",
        "창의성, 시장성, 안정성, 수익성에 대한 각각의 평가 중 아래 기준에 부합하지 못하면 창업지원을 받을 수 없습니다.\n",
        "\n",
        "- 수익성 60점 이상\n",
        "- 창의성과 시장성 50점 이상\n",
        "- 시장성과 수익성을 더한 값의 절반이 안정성 보다 높아야 함\n",
        "\n",
        "\n",
        "다음 점수가 입력되었을때 창업 지원이 가능한지 여부를 True 또는 False로 출력해주세요.\n",
        "\n",
        "---\n",
        "\n",
        "창의성 : 62\n",
        "시장성 : 71\n",
        "안정성 : 68\n",
        "수익성 : 66\n",
        "<br>\n",
        "\n",
        "* 참고\n",
        "(creativity ,\n",
        "marketability ,\n",
        "stability ,\n",
        "profitability )"
      ]
    },
    {
      "cell_type": "markdown",
      "metadata": {
        "id": "zZx5NF_h3pMk"
      },
      "source": [
        "__Tips__\n",
        "* 비교 연산자와 논리 연산자의 결과를 고려해보아요"
      ]
    },
    {
      "cell_type": "code",
      "execution_count": null,
      "metadata": {
        "id": "XJhvRO-2djBh",
        "colab": {
          "base_uri": "https://localhost:8080/"
        },
        "outputId": "7d8a896c-3147-4100-befe-314e17973638"
      },
      "outputs": [
        {
          "output_type": "stream",
          "name": "stdout",
          "text": [
            "True\n"
          ]
        }
      ],
      "source": [
        "creativity = 62\n",
        "marketability = 71\n",
        "stability = 68\n",
        "profitability = 66\n",
        "\n",
        "print(profitability >= 60 and creativity >= 50 and marketability >= 50 and ((marketability + profitability) / 2) > stability)"
      ]
    },
    {
      "cell_type": "markdown",
      "metadata": {
        "id": "TnYq6pSj3pMl"
      },
      "source": [
        "## 모험가들의 레벨업 도전\n",
        "\n",
        "### [배경 이야기]\n",
        "\n",
        "당신은 마법사, 전사, 도적, 힐러 네 명의 모험가를 이끄는 리더입니다.\n",
        "\n",
        "각 캐릭터는 힘, 민첩, 지능, 체력이라는 능력치를 가지고 있습니다. 이 능력치들을 이용해 다양한 도전을 해결하고 사냥을 통해 경험치를 얻어 레벨업을 해야 합니다.\n",
        "\n",
        "<br>\n",
        "\n",
        "### [동료 캐릭터와 능력치 정보]\n",
        "\n",
        "마법사: 힘(10), 민첩(20), 지능(80), 체력(50)\n",
        "\n",
        "전사: 힘(80), 민첩(30), 지능(20), 체력(100)\n",
        "\n",
        "도적: 힘(40), 민첩(80), 지능(30), 체력(60)\n",
        "\n",
        "힐러: 힘(20), 민첩(40), 지능(70), 체력(70)\n",
        "\n",
        "<br>\n",
        "\n",
        "* 변수명을 영어로 변경해서 풀어보세요 !"
      ]
    },
    {
      "cell_type": "markdown",
      "metadata": {
        "id": "pTHfc5jP3pMl"
      },
      "source": [
        "<br>\n",
        "\n",
        "__[문제 1: 첫 번째 사냥]__\n",
        "\n",
        "마법사는 몬스터를 사냥하기 위해 마법을 사용합니다.\n",
        "\n",
        "마법을 사용하려면 지능이 50 이상이어야 합니다.\n",
        "\n",
        "마법사의 지능이 50 이상인지 확인하세요."
      ]
    },
    {
      "cell_type": "code",
      "source": [
        "Wizard_int = 80\n",
        "\n",
        "intelligence = 50\n",
        "\n",
        "Wizard_int = intelligence\n",
        "\n",
        "intelligence <= Wizard_int"
      ],
      "metadata": {
        "colab": {
          "base_uri": "https://localhost:8080/"
        },
        "id": "sHZ_z-y26v11",
        "outputId": "52b89fb8-1540-49b6-ee88-db6630e54420"
      },
      "execution_count": 31,
      "outputs": [
        {
          "output_type": "execute_result",
          "data": {
            "text/plain": [
              "True"
            ]
          },
          "metadata": {},
          "execution_count": 31
        }
      ]
    },
    {
      "cell_type": "markdown",
      "metadata": {
        "id": "THf20A9A3pMl"
      },
      "source": [
        "<br>\n",
        "\n",
        "__[문제 2: 두 번째 사냥]__\n",
        "\n",
        "전사는 강력한 공격을 하기 위해 자신의 힘을 사용합니다.\n",
        "\n",
        "전사의 힘이 60 이상이고 체력이 80 이상인지 확인하세요."
      ]
    },
    {
      "cell_type": "code",
      "execution_count": 38,
      "metadata": {
        "id": "FFoW-GoE3pMl",
        "colab": {
          "base_uri": "https://localhost:8080/"
        },
        "outputId": "074d26aa-c2a2-4c25-f63c-317a16facab5"
      },
      "outputs": [
        {
          "output_type": "execute_result",
          "data": {
            "text/plain": [
              "True"
            ]
          },
          "metadata": {},
          "execution_count": 38
        }
      ],
      "source": [
        "Warrior_str = 80\n",
        "Warrior_hp = 100\n",
        "\n",
        "strength = 60\n",
        "health_point = 80\n",
        "\n",
        "strength <= Warrior_str\n",
        "health_point <= Warrior_hp"
      ]
    },
    {
      "cell_type": "markdown",
      "metadata": {
        "id": "wKKMM1PZ3pMl"
      },
      "source": [
        "<br>\n",
        "\n",
        "__[문제 3: 세 번째 사냥]__\n",
        "\n",
        "도적은 민첩함을 이용해 몬스터를 회피하고 공격합니다.\n",
        "\n",
        "도적의 민첩이 70 이상이거나 힘이 50 이상인지 확인하세요."
      ]
    },
    {
      "cell_type": "code",
      "execution_count": 39,
      "metadata": {
        "id": "Ob-QYZqV3pMl",
        "colab": {
          "base_uri": "https://localhost:8080/"
        },
        "outputId": "b3d3cfdb-56ed-4e23-fca1-29c3dec0854f"
      },
      "outputs": [
        {
          "output_type": "execute_result",
          "data": {
            "text/plain": [
              "False"
            ]
          },
          "metadata": {},
          "execution_count": 39
        }
      ],
      "source": [
        "Thief_agi = 80\n",
        "Thief_str = 40\n",
        "\n",
        "agility = 70\n",
        "strength = 50\n",
        "\n",
        "agility <= Thief_agi\n",
        "strength <= Thief_str"
      ]
    },
    {
      "cell_type": "markdown",
      "metadata": {
        "id": "1s0AD1nD3pMl"
      },
      "source": [
        "<br>\n",
        "\n",
        "__[문제 4: 네 번째 사냥]__\n",
        "\n",
        "힐러는 파티의 체력을 회복시키기 위해 마법을 사용합니다.\n",
        "\n",
        "힐러의 지능이 60 이상이고, 체력이 50 이상인지 확인하세요."
      ]
    },
    {
      "cell_type": "code",
      "execution_count": 41,
      "metadata": {
        "id": "rnP73JQI3pMl",
        "colab": {
          "base_uri": "https://localhost:8080/"
        },
        "outputId": "3667a6d7-3356-4919-a5d0-9e589507ddee"
      },
      "outputs": [
        {
          "output_type": "execute_result",
          "data": {
            "text/plain": [
              "True"
            ]
          },
          "metadata": {},
          "execution_count": 41
        }
      ],
      "source": [
        "Healer_int = 70\n",
        "Healer_hp = 70\n",
        "\n",
        "intelligence = 60\n",
        "health_point = 50\n",
        "\n",
        "intelligence <= Healer_int\n",
        "health_point <= Healer_hp"
      ]
    },
    {
      "cell_type": "markdown",
      "metadata": {
        "id": "VPDQTQa03pMl"
      },
      "source": [
        "<br>\n",
        "\n",
        "__[문제 5: 레벨업]__\n",
        "\n",
        "모든 캐릭터가 사냥을 성공적으로 마쳤습니다. 이제 경험치를 얻어 레벨업을 해야 합니다.\n",
        "\n",
        "\n",
        "각 캐릭터의 경험치가 100 이상인지 print()를 이용해 확인해주세요.\n",
        "\n",
        "<br>\n",
        "\n",
        "경험치는 아래와 같습니다.\n",
        "\n",
        "마법사: 120\n",
        "\n",
        "전사: 150\n",
        "\n",
        "도적: 110\n",
        "\n",
        "힐러: 90\n",
        "\n"
      ]
    },
    {
      "cell_type": "code",
      "execution_count": 44,
      "metadata": {
        "id": "ToFq87703pMm",
        "colab": {
          "base_uri": "https://localhost:8080/"
        },
        "outputId": "9f2bcf07-7811-4820-a093-7261ed172fcf"
      },
      "outputs": [
        {
          "output_type": "stream",
          "name": "stdout",
          "text": [
            "True\n",
            "True\n",
            "True\n",
            "False\n"
          ]
        }
      ],
      "source": [
        "experience_wizard = 120\n",
        "experience_warrior = 150\n",
        "experience_theif = 110\n",
        "experience_healer = 90\n",
        "\n",
        "levelup_wizrd = experience_wizard >= 100\n",
        "levelup_warrior = experience_warrior >= 100\n",
        "levelup_theif = experience_theif >= 100\n",
        "levelup_healer = experience_healer >= 100\n",
        "\n",
        "print(levelup_wizrd)\n",
        "print(levelup_warrior)\n",
        "print(levelup_theif)\n",
        "print(levelup_healer)"
      ]
    }
  ],
  "metadata": {
    "colab": {
      "provenance": [],
      "include_colab_link": true
    },
    "kernelspec": {
      "display_name": "Python 3",
      "name": "python3"
    },
    "language_info": {
      "name": "python"
    }
  },
  "nbformat": 4,
  "nbformat_minor": 0
}