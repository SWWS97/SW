{
  "cells": [
    {
      "cell_type": "markdown",
      "metadata": {
        "id": "view-in-github",
        "colab_type": "text"
      },
      "source": [
        "<a href=\"https://colab.research.google.com/github/SWWS97/SW/blob/main/level1.ipynb\" target=\"_parent\"><img src=\"https://colab.research.google.com/assets/colab-badge.svg\" alt=\"Open In Colab\"/></a>"
      ]
    },
    {
      "cell_type": "markdown",
      "metadata": {
        "id": "WXEwMsfUct7U"
      },
      "source": [
        "안녕하세요.<br><br>\n",
        "수강생 여러분~!\n",
        "\n",
        "\"Challenge : 사칙연산을 이용해 문제 풀기\"는 잘 풀어보셨나요?\n",
        "\n",
        "\n",
        "너~~무 어려웠어요! 하는 분들을 위해 만들어봤습니다!\n",
        "\n",
        "문제 도장깨기 !!!!!\n",
        "\n",
        "차근차근 풀어나가면 파이썬 정복 가능입니다!\n",
        "\n",
        "화이팅 !\n",
        "\n",
        "\n",
        "Chapter04의 수업 내용을 바탕으로 아래 문제를 풀어주시면 됩니다.\n",
        "\n",
        "<br>\n",
        "\n",
        "[**답변 입력 방법**]\n",
        "\n",
        "문제 아래에 있는 코드 입력창에 정답코드를 작성하신 후  __▷ 버튼을 클릭해 코드를 실행__ 해보세요<br>\n",
        "<br>"
      ]
    },
    {
      "cell_type": "markdown",
      "metadata": {
        "id": "qoyC9wF-3hvs"
      },
      "source": [
        "-----"
      ]
    },
    {
      "cell_type": "markdown",
      "metadata": {
        "id": "cr0j9bSv3F7C"
      },
      "source": [
        "<br>\n",
        "\n",
        "__[문제1]__\n",
        "\n",
        "한 상자에 사과가 7개 들어있습니다.\n",
        "\n",
        "사과가 많이 먹고 싶어서 3개의 상자를 구입했습니다!\n",
        "\n",
        "총 사과의 개수를 계산해주세요.\n",
        "\n",
        "\n",
        "<br>"
      ]
    },
    {
      "cell_type": "code",
      "execution_count": null,
      "metadata": {
        "colab": {
          "base_uri": "https://localhost:8080/"
        },
        "id": "82J9iDss3F7C",
        "outputId": "0a3af59a-4471-487f-bc5a-b78f520961d6"
      },
      "outputs": [
        {
          "output_type": "execute_result",
          "data": {
            "text/plain": [
              "21"
            ]
          },
          "metadata": {},
          "execution_count": 6
        }
      ],
      "source": [
        "7 * 3\n",
        "\n",
        "apples = 7\n",
        "boxes = 3\n",
        "\n",
        "print(apples * boxes)"
      ]
    },
    {
      "cell_type": "markdown",
      "metadata": {
        "id": "Z8NXrciQ3F7D"
      },
      "source": [
        "<br>\n",
        "\n",
        "__[문제2]__\n",
        "\n",
        "영화 티켓 한 장의 가격은 10,000원입니다.\n",
        "\n",
        "친구 한명이 로또에 당첨되서 티켓을 사준다고 합니다!\n",
        "\n",
        "4명의 친구가 각각 4장씩 구매할 때, 총 가격이 어떻게 되는지 계산해주세요\n",
        "\n",
        "<br>"
      ]
    },
    {
      "cell_type": "code",
      "execution_count": null,
      "metadata": {
        "id": "h4kdFozU3F7D"
      },
      "outputs": [],
      "source": [
        "# prompt: 10000 * (4 * 4 )\n",
        "\n",
        "ticket_price = 10000\n",
        "num_friends = 4\n",
        "tickets_per_friend = 4\n",
        "\n",
        "total_price = ticket_price * num_friends * tickets_per_friend\n",
        "total_price"
      ]
    },
    {
      "cell_type": "markdown",
      "metadata": {
        "id": "rAD_O3Gmc_43"
      },
      "source": [
        "<br>\n",
        "\n",
        "__[문제3]__\n",
        "\n",
        "지각입니다 !!!!!\n",
        "\n",
        "지하철을 타고 5개의 역이 남았습니다.\n",
        "\n",
        "각 역은 3분씩 걸립니다. 시간을 계산해볼 수 있도록 5개의 역을 지나는데 걸린 총 시간을 구해주세요.\n",
        "\n"
      ]
    },
    {
      "cell_type": "code",
      "execution_count": null,
      "metadata": {
        "id": "74wtVQFFc_h1",
        "colab": {
          "base_uri": "https://localhost:8080/"
        },
        "outputId": "c9a42bb0-6039-43f5-8f94-99102cc84185"
      },
      "outputs": [
        {
          "output_type": "stream",
          "name": "stdout",
          "text": [
            "8\n"
          ]
        }
      ],
      "source": [
        "5 * 3\n",
        "\n",
        "left = 5\n",
        "time = 3\n",
        "\n",
        "print(left + time)"
      ]
    },
    {
      "cell_type": "markdown",
      "metadata": {
        "id": "3uK_auXYdgk2"
      },
      "source": [
        "<br>__[문제4]__\n",
        "\n",
        "파이썬 기초 관련 책이 9권 있습니다.\n",
        "\n",
        "오즈코딩스쿨을 통해 파이썬을 마스터 해버려서 필요없습니다.\n",
        "\n",
        "책을 3명의 친구에게 똑같이 나눠줄 때, 각 사람에게 몇 권씩 나누어줄 수 있을까요?\n"
      ]
    },
    {
      "cell_type": "code",
      "execution_count": null,
      "metadata": {
        "id": "9kvBxa6PdhgA",
        "colab": {
          "base_uri": "https://localhost:8080/"
        },
        "outputId": "99aa53bb-92a8-41d5-97a1-f996539bad10"
      },
      "outputs": [
        {
          "output_type": "stream",
          "name": "stdout",
          "text": [
            "3\n"
          ]
        }
      ],
      "source": [
        "9//3\n",
        "\n",
        "books = 9\n",
        "friends = 3\n",
        "\n",
        "print(books // friends)"
      ]
    },
    {
      "cell_type": "markdown",
      "metadata": {
        "id": "2Jte2VLKdiPm"
      },
      "source": [
        "__[문제5]__\n",
        "\n",
        "무인도에 2명의 갇혀있습니다.\n",
        "\n",
        "가진건 초콜릿 8개뿐,,\n",
        "\n",
        "각 사람은 초콜릿을 몇 개씩 먹을 수 있을까요?\n",
        "\n"
      ]
    },
    {
      "cell_type": "code",
      "execution_count": null,
      "metadata": {
        "colab": {
          "base_uri": "https://localhost:8080/"
        },
        "id": "N-Ew-w8R3F7E",
        "outputId": "d35a3803-b797-4ca9-bfcc-4a5fedc520d0"
      },
      "outputs": [
        {
          "output_type": "stream",
          "name": "stdout",
          "text": [
            "4\n"
          ]
        }
      ],
      "source": [
        "8//2\n",
        "\n",
        "chocolates = 8\n",
        "people = 2\n",
        "\n",
        "print(chocolates // people)"
      ]
    }
  ],
  "metadata": {
    "colab": {
      "provenance": [],
      "include_colab_link": true
    },
    "kernelspec": {
      "display_name": "Python 3",
      "name": "python3"
    },
    "language_info": {
      "codemirror_mode": {
        "name": "ipython",
        "version": 3
      },
      "file_extension": ".py",
      "mimetype": "text/x-python",
      "name": "python",
      "nbconvert_exporter": "python",
      "pygments_lexer": "ipython3",
      "version": "3.12.3"
    }
  },
  "nbformat": 4,
  "nbformat_minor": 0
}