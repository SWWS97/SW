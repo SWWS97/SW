{
  "cells": [
    {
      "cell_type": "markdown",
      "metadata": {
        "id": "view-in-github",
        "colab_type": "text"
      },
      "source": [
        "<a href=\"https://colab.research.google.com/github/SWWS97/SW/blob/main/level1.ipynb\" target=\"_parent\"><img src=\"https://colab.research.google.com/assets/colab-badge.svg\" alt=\"Open In Colab\"/></a>"
      ]
    },
    {
      "cell_type": "markdown",
      "metadata": {
        "id": "WXEwMsfUct7U"
      },
      "source": [
        "안녕하세요.<br><br>\n",
        "수강생 여러분~!\n",
        "\n",
        "\"Challenge : Chapter05 ~ 08 문제풀기\"는 잘 풀어보셨나요?\n",
        "\n",
        "\n",
        "너~~무 어려웠어요! 하는 분들을 위해 만들어봤습니다!\n",
        "\n",
        "문제 도장깨기 !!!!!\n",
        "\n",
        "차근차근 풀어나가면 파이썬 정복 가능입니다!\n",
        "\n",
        "화이팅 !\n",
        "\n",
        "\n",
        "Chapter05~08의 수업 내용을 바탕으로 아래 문제를 풀어주시면 됩니다.\n",
        "\n",
        "<br>\n",
        "\n",
        "[**답변 입력 방법**]\n",
        "\n",
        "문제 아래에 있는 코드 입력창에 정답코드를 작성하신 후  __▷ 버튼을 클릭해 코드를 실행__ 해보세요<br>\n",
        "<br>"
      ]
    },
    {
      "cell_type": "markdown",
      "metadata": {
        "id": "qoyC9wF-3hvs"
      },
      "source": [
        "-----"
      ]
    },
    {
      "cell_type": "markdown",
      "metadata": {
        "id": "AFPib-wYKccj"
      },
      "source": [
        "<br>\n",
        "\n",
        "__[문제1]__\n",
        "\n",
        "\n",
        "a와 b라는 변수를 각각 10과 20으로 초기화하고, 두 변수를 더한 값을 출력해보세요.\n",
        "\n",
        "\n",
        "<br>"
      ]
    },
    {
      "cell_type": "code",
      "execution_count": 4,
      "metadata": {
        "colab": {
          "base_uri": "https://localhost:8080/"
        },
        "id": "emEkp9CmKcck",
        "outputId": "55fa8be1-71ca-46ce-e580-cbd92fc5c543"
      },
      "outputs": [
        {
          "output_type": "stream",
          "name": "stdout",
          "text": [
            "30\n"
          ]
        }
      ],
      "source": [
        "a = 10\n",
        "b = 20\n",
        "\n",
        "result = a + b\n",
        "\n",
        "print(result)"
      ]
    },
    {
      "cell_type": "markdown",
      "metadata": {
        "id": "IwyK3Ky3Kccl"
      },
      "source": [
        "<br>\n",
        "\n",
        "__[문제2]__\n",
        "\n",
        "\n",
        "변수 num1에 15, num2에 4를 할당하고, 두 변수를 더한 값, 뺀 값, 곱한 값, 나눈 값을 각각 출력하세요.\n",
        "\n",
        "\n",
        "\n",
        "<br>"
      ]
    },
    {
      "cell_type": "code",
      "execution_count": 5,
      "metadata": {
        "colab": {
          "base_uri": "https://localhost:8080/"
        },
        "id": "s77UmzqVKccl",
        "outputId": "678e9e5a-4c34-4296-c2b1-d58b0df0cd1a"
      },
      "outputs": [
        {
          "output_type": "stream",
          "name": "stdout",
          "text": [
            "19\n",
            "11\n",
            "60\n",
            "3.75\n"
          ]
        }
      ],
      "source": [
        "num1 = 15\n",
        "num2 = 4\n",
        "\n",
        "print(num1+num2)\n",
        "print(num1-num2)\n",
        "print(num1*num2)\n",
        "print(num1/num2)\n"
      ]
    },
    {
      "cell_type": "markdown",
      "metadata": {
        "id": "rAD_O3Gmc_43"
      },
      "source": [
        "<br>\n",
        "\n",
        "__[문제3]__\n",
        "\n",
        "변수 x에 5를 할당하고, 변수 y에 3을 할당한 후, x가 y보다 크거나 같은지 비교해서 bool타입으로 출력해주세요."
      ]
    },
    {
      "cell_type": "code",
      "execution_count": 10,
      "metadata": {
        "id": "74wtVQFFc_h1",
        "colab": {
          "base_uri": "https://localhost:8080/"
        },
        "outputId": "082f19d4-eb4e-4dbb-9eb2-abcf1f0162f4"
      },
      "outputs": [
        {
          "output_type": "execute_result",
          "data": {
            "text/plain": [
              "True"
            ]
          },
          "metadata": {},
          "execution_count": 10
        }
      ],
      "source": [
        "x = 5\n",
        "y = 3\n",
        "\n",
        "y <= x"
      ]
    },
    {
      "cell_type": "markdown",
      "metadata": {
        "id": "3uK_auXYdgk2"
      },
      "source": [
        "<br>__[문제4]__\n",
        "\n",
        "자료형 (int, float, str, bool) 변수를 만들어보고, print()해서 결과를 확인하세요!\n"
      ]
    },
    {
      "cell_type": "code",
      "execution_count": 15,
      "metadata": {
        "id": "9kvBxa6PdhgA",
        "colab": {
          "base_uri": "https://localhost:8080/"
        },
        "outputId": "5e960754-141e-41fc-a16d-6c10216c15f7"
      },
      "outputs": [
        {
          "output_type": "stream",
          "name": "stdout",
          "text": [
            "10\n",
            "10.5\n",
            "파이썬\n",
            "False\n"
          ]
        }
      ],
      "source": [
        "integer = 10\n",
        "float = 10.5\n",
        "string = \"파이썬\"\n",
        "boolean = False\n",
        "\n",
        "print(integer)\n",
        "print(float)\n",
        "print(string)\n",
        "print(boolean)"
      ]
    },
    {
      "cell_type": "markdown",
      "metadata": {
        "id": "2Jte2VLKdiPm"
      },
      "source": [
        "__[문제5]__\n",
        "\n",
        "str = \"야호야호야호호야호야야오햐오햐오햐오\"\n",
        "\n",
        "str을 3가지 이상의 다른 문자열 슬라이싱을 이용하여 확인해보세요!\n",
        "\n",
        "출력 예)\n",
        "\n",
        "처음 5글자: 야호야호야\n"
      ]
    },
    {
      "cell_type": "code",
      "execution_count": 23,
      "metadata": {
        "colab": {
          "base_uri": "https://localhost:8080/"
        },
        "id": "VwBFzpv2Kccn",
        "outputId": "ed37b156-efc3-4df3-fe0b-80ca16425278"
      },
      "outputs": [
        {
          "output_type": "stream",
          "name": "stdout",
          "text": [
            "야호\n",
            "햐오햐오\n",
            "야호호야햐오\n",
            "야호\n"
          ]
        }
      ],
      "source": [
        "str = \"야호야호야호호야호야야오햐오햐오햐오\"\n",
        "\n",
        "print(str[:2])\n",
        "print(str[-4:])\n",
        "print(str[::3])\n",
        "print(str[7:9])"
      ]
    }
  ],
  "metadata": {
    "colab": {
      "provenance": [],
      "include_colab_link": true
    },
    "kernelspec": {
      "display_name": "Python 3",
      "name": "python3"
    },
    "language_info": {
      "codemirror_mode": {
        "name": "ipython",
        "version": 3
      },
      "file_extension": ".py",
      "mimetype": "text/x-python",
      "name": "python",
      "nbconvert_exporter": "python",
      "pygments_lexer": "ipython3",
      "version": "3.12.3"
    }
  },
  "nbformat": 4,
  "nbformat_minor": 0
}